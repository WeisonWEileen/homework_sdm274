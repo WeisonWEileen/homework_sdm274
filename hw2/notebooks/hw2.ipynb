{
 "cells": [
  {
   "cell_type": "markdown",
   "metadata": {},
   "source": [
    "# AI and ML 12211810 潘炜 homework 02"
   ]
  },
  {
   "cell_type": "markdown",
   "metadata": {},
   "source": [
    "import necessary library"
   ]
  },
  {
   "cell_type": "code",
   "execution_count": 1,
   "metadata": {},
   "outputs": [],
   "source": [
    "import numpy as np\n",
    "import matplotlib.pyplot as plt"
   ]
  },
  {
   "cell_type": "markdown",
   "metadata": {},
   "source": [
    "class specification"
   ]
  },
  {
   "cell_type": "code",
   "execution_count": 2,
   "metadata": {},
   "outputs": [],
   "source": [
    "class LinearRegresssion:\n",
    "    def __init__(self, n_feature = 1, learning_rate=0.0001, batch_size=10,epoches=10000):\n",
    "        self.epoches = epoches\n",
    "        self.learning_rate = learning_rate\n",
    "        self.tole = 1e-5\n",
    "        self.batch_size = batch_size\n",
    "        self.W = np.random.randn(n_feature + 1) * 0.05\n",
    "\n",
    "    # stochastic gradient descent\n",
    "    def _SGD_update(self, input, groundtruth):\n",
    "        pred = input.dot(self.W)\n",
    "        seed = np.random.randint(0, len(input))\n",
    "        grad = self._gradient(groundtruth[seed], pred[seed], input[seed,:][np.newaxis, :]) # to ensure the shape is (,2) instead of (2,)\n",
    "        self.W = self.W - self.learning_rate * grad\n",
    "\n",
    "    # batch gradient descent\n",
    "    def _BGD_update(self, input, groundtruth):\n",
    "        pred = input.dot(self.W)\n",
    "        grad = self._gradient(groundtruth, pred, input)\n",
    "        self.W = self.W - self.learning_rate * grad\n",
    "\n",
    "    # 10 percent of mini batch graident descent \n",
    "    def _MBGD_update(self, input, groundtruth):\n",
    "        pred = input.dot(self.W)\n",
    "        indices = np.random.choice(groundtruth.shape[0], self.batch_size, replace=False)\n",
    "        grad = self._gradient(groundtruth[indices], pred[indices], input[indices])\n",
    "        self.W = self.W - self.learning_rate * grad\n",
    "    \n",
    "    def _mse_loss(self, groundtruth, predict):\n",
    "        return np.mean((groundtruth - predict) ** 2)\n",
    "    \n",
    "    def _gradient(self, groudtruth, predict, input):\n",
    "        return 1 / input.shape[0] * np.mean(2 * (predict - groudtruth ) * input[:,:-1])\n",
    "\n",
    "    def fit(self, X, y):\n",
    "        X = np.c_[X, np.ones(len(X))]\n",
    "        for i in range(self.epoches):\n",
    "            # loss = self._SGD_update(X, y)\n",
    "            # loss = self._BGD_update(X, y)\n",
    "            self._MBGD_update(X, y)\n",
    "            if i % 100 == 0:\n",
    "                loss = self._mse_loss(y, X.dot(self.W))\n",
    "                print(f\"for {i} iteration, the loss is {loss}\")\n",
    "        return self.W"
   ]
  },
  {
   "cell_type": "markdown",
   "metadata": {},
   "source": [
    "data generation"
   ]
  },
  {
   "cell_type": "code",
   "execution_count": 3,
   "metadata": {},
   "outputs": [],
   "source": [
    "X_train = np.arange(100).reshape(100,1)\n",
    "a, b = 1, 10\n",
    "y_train = a * X_train + b + np.random.normal(0, 5, size=X_train.shape)\n",
    "y_train = y_train.reshape(-1)"
   ]
  },
  {
   "cell_type": "markdown",
   "metadata": {},
   "source": [
    "training "
   ]
  },
  {
   "cell_type": "code",
   "execution_count": 4,
   "metadata": {},
   "outputs": [
    {
     "name": "stdout",
     "output_type": "stream",
     "text": [
      "for 0 iteration, the loss is 4166.575831098297\n",
      "for 100 iteration, the loss is 45.720965351709566\n",
      "for 200 iteration, the loss is 50.091425908574486\n",
      "for 300 iteration, the loss is 51.68661520794612\n",
      "for 400 iteration, the loss is 44.88588922621224\n",
      "for 500 iteration, the loss is 48.44761840405531\n",
      "for 600 iteration, the loss is 49.10979491805941\n",
      "for 700 iteration, the loss is 44.52111449923006\n",
      "for 800 iteration, the loss is 46.03970719837695\n",
      "for 900 iteration, the loss is 47.40354790931346\n",
      "for 1000 iteration, the loss is 45.092571586905585\n",
      "for 1100 iteration, the loss is 46.61174696848073\n",
      "for 1200 iteration, the loss is 46.15504445489637\n",
      "for 1300 iteration, the loss is 46.716924759881515\n",
      "for 1400 iteration, the loss is 46.640497967557515\n",
      "for 1500 iteration, the loss is 47.706718730376316\n",
      "for 1600 iteration, the loss is 47.92438521200147\n",
      "for 1700 iteration, the loss is 45.96018447612253\n",
      "for 1800 iteration, the loss is 48.52328414095623\n",
      "for 1900 iteration, the loss is 47.461918395626384\n",
      "for 2000 iteration, the loss is 48.50924696477842\n",
      "for 2100 iteration, the loss is 47.51610348650163\n",
      "for 2200 iteration, the loss is 46.34932457099815\n",
      "for 2300 iteration, the loss is 44.51901702839141\n",
      "for 2400 iteration, the loss is 47.338533497779636\n",
      "for 2500 iteration, the loss is 45.038896665347714\n",
      "for 2600 iteration, the loss is 47.29335076282691\n",
      "for 2700 iteration, the loss is 45.954579410464646\n",
      "for 2800 iteration, the loss is 50.96571752976817\n",
      "for 2900 iteration, the loss is 45.392422560893095\n",
      "for 3000 iteration, the loss is 45.12019971719197\n",
      "for 3100 iteration, the loss is 46.476082944333555\n",
      "for 3200 iteration, the loss is 47.81798674837984\n",
      "for 3300 iteration, the loss is 44.29425607977598\n",
      "for 3400 iteration, the loss is 45.11423025138108\n",
      "for 3500 iteration, the loss is 44.99050597848635\n",
      "for 3600 iteration, the loss is 48.09911912910271\n",
      "for 3700 iteration, the loss is 47.061523054931094\n",
      "for 3800 iteration, the loss is 48.100801590965915\n",
      "for 3900 iteration, the loss is 45.227164585083216\n",
      "for 4000 iteration, the loss is 46.62484388639791\n",
      "for 4100 iteration, the loss is 47.487654767568785\n",
      "for 4200 iteration, the loss is 47.550997369099186\n",
      "for 4300 iteration, the loss is 45.81359440429721\n",
      "for 4400 iteration, the loss is 46.30348069719304\n",
      "for 4500 iteration, the loss is 45.46370011456352\n",
      "for 4600 iteration, the loss is 48.80892513524769\n",
      "for 4700 iteration, the loss is 48.00102048018971\n",
      "for 4800 iteration, the loss is 47.30358521328237\n",
      "for 4900 iteration, the loss is 44.85800829222239\n",
      "for 5000 iteration, the loss is 45.04412282526639\n",
      "for 5100 iteration, the loss is 48.10097233508224\n",
      "for 5200 iteration, the loss is 47.69620417531266\n",
      "for 5300 iteration, the loss is 51.04401124932631\n",
      "for 5400 iteration, the loss is 45.9725664359445\n",
      "for 5500 iteration, the loss is 46.42033494515756\n",
      "for 5600 iteration, the loss is 47.13121259933709\n",
      "for 5700 iteration, the loss is 46.12921913874087\n",
      "for 5800 iteration, the loss is 53.213527817235715\n",
      "for 5900 iteration, the loss is 46.920344871675795\n",
      "for 6000 iteration, the loss is 46.36101117561584\n",
      "for 6100 iteration, the loss is 48.05915314685073\n",
      "for 6200 iteration, the loss is 48.01597203691174\n",
      "for 6300 iteration, the loss is 46.49225856965537\n",
      "for 6400 iteration, the loss is 49.76313970393713\n",
      "for 6500 iteration, the loss is 47.55504537087247\n",
      "for 6600 iteration, the loss is 48.29778033845459\n",
      "for 6700 iteration, the loss is 45.78619966367174\n",
      "for 6800 iteration, the loss is 48.80996471948366\n",
      "for 6900 iteration, the loss is 47.351957191965404\n",
      "for 7000 iteration, the loss is 47.021477704464274\n",
      "for 7100 iteration, the loss is 48.34437188661584\n",
      "for 7200 iteration, the loss is 47.46021847952264\n",
      "for 7300 iteration, the loss is 49.98892371655325\n",
      "for 7400 iteration, the loss is 48.911988611908946\n",
      "for 7500 iteration, the loss is 45.92432772337348\n",
      "for 7600 iteration, the loss is 49.35486608033444\n",
      "for 7700 iteration, the loss is 46.569837869821534\n",
      "for 7800 iteration, the loss is 43.99952062007756\n",
      "for 7900 iteration, the loss is 48.26070572061986\n",
      "for 8000 iteration, the loss is 46.52039362949874\n",
      "for 8100 iteration, the loss is 47.47163801338049\n",
      "for 8200 iteration, the loss is 47.185995908348666\n",
      "for 8300 iteration, the loss is 45.40699428904181\n",
      "for 8400 iteration, the loss is 48.28125705895846\n",
      "for 8500 iteration, the loss is 45.86554484495895\n",
      "for 8600 iteration, the loss is 49.44202094414773\n",
      "for 8700 iteration, the loss is 47.863755572763715\n",
      "for 8800 iteration, the loss is 47.3574666291682\n",
      "for 8900 iteration, the loss is 43.277556603800434\n",
      "for 9000 iteration, the loss is 44.236732721618985\n",
      "for 9100 iteration, the loss is 48.50996555480148\n",
      "for 9200 iteration, the loss is 47.635757399074755\n",
      "for 9300 iteration, the loss is 45.41698985626177\n",
      "for 9400 iteration, the loss is 44.96226118683776\n",
      "for 9500 iteration, the loss is 47.47409753806295\n",
      "for 9600 iteration, the loss is 45.468907274232194\n",
      "for 9700 iteration, the loss is 46.12819694506218\n",
      "for 9800 iteration, the loss is 45.18827898620358\n",
      "for 9900 iteration, the loss is 44.81043071144382\n"
     ]
    },
    {
     "data": {
      "image/png": "[encoded data removed]",
      "text/plain": [
       "<Figure size 640x480 with 1 Axes>"
      ]
     },
     "metadata": {},
     "output_type": "display_data"
    }
   ],
   "source": [
    "model = LinearRegresssion(n_feature=X_train.shape[1])\n",
    "w = model.fit(X_train, y_train)\n",
    "plt.scatter(X_train[:, 0], y_train, color='blue', label='Training data')\n",
    "\n",
    "x_values = np.linspace(X_train[:, 0].min(), X_train[:, 0].max(), 100)\n",
    "y_values = w[0] + w[1] * x_values\n",
    "plt.plot(x_values, y_values, color='red', label='Regression line')\n",
    "\n",
    "plt.xlabel('X_train')\n",
    "plt.ylabel('y_train')\n",
    "plt.legend()\n",
    "plt.title('Linear Regression Fit')\n",
    "plt.show()"
   ]
  },
  {
   "cell_type": "code",
   "execution_count": 4,
   "metadata": {},
   "outputs": [
    {
     "name": "stdout",
     "output_type": "stream",
     "text": [
      "Input matrix (input):\n",
      "[[1 1]\n",
      " [3 1]\n",
      " [5 1]]\n",
      "\n",
      "Predict vector (predict):\n",
      "[[0.5]\n",
      " [1.5]\n",
      " [2.5]]\n",
      "\n",
      "Groundtruth vector (groundtruth):\n",
      "[[1]\n",
      " [2]\n",
      " [3]]\n",
      "\n",
      "Gradient (1 / input.shape[0] * np.dot(input.T, (predict - groundtruth))):\n",
      "[[-1.5]\n",
      " [-0.5]]\n"
     ]
    }
   ],
   "source": [
    "import numpy as np\n",
    "\n",
    "# 假设有 3 个样本和 2 个特征（包括偏置项）\n",
    "input = np.array([[1, 1],\n",
    "                  [3, 1],\n",
    "                  [5, 1]])\n",
    "\n",
    "# 假设预测值和真实值\n",
    "predict = np.array([[0.5],\n",
    "                    [1.5],\n",
    "                    [2.5]])\n",
    "\n",
    "groundtruth = np.array([[1],\n",
    "                        [2],\n",
    "                        [3]])\n",
    "\n",
    "# 计算梯度\n",
    "gradient = 1 / input.shape[0] * np.dot(input.T, (predict - groundtruth))\n",
    "\n",
    "print(\"Input matrix (input):\")\n",
    "print(input)\n",
    "print(\"\\nPredict vector (predict):\")\n",
    "print(predict)\n",
    "print(\"\\nGroundtruth vector (groundtruth):\")\n",
    "print(groundtruth)\n",
    "print(\"\\nGradient (1 / input.shape[0] * np.dot(input.T, (predict - groundtruth))):\")\n",
    "print(gradient)"
   ]
  },
  {
   "cell_type": "markdown",
   "metadata": {},
   "source": []
  }
 ],
 "metadata": {
  "kernelspec": {
   "display_name": "Python 3",
   "language": "python",
   "name": "python3"
  },
  "language_info": {
   "codemirror_mode": {
    "name": "ipython",
    "version": 3
   },
   "file_extension": ".py",
   "mimetype": "text/x-python",
   "name": "python",
   "nbconvert_exporter": "python",
   "pygments_lexer": "ipython3",
   "version": "3.10.12"
  }
 },
 "nbformat": 4,
 "nbformat_minor": 2
}
