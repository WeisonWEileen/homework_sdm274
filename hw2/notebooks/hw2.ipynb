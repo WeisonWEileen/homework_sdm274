{
 "cells": [
  {
   "cell_type": "markdown",
   "metadata": {},
   "source": [
    "# AI and ML 12211810 潘炜 homework 02"
   ]
  },
  {
   "cell_type": "markdown",
   "metadata": {},
   "source": [
    "import necessary library"
   ]
  },
  {
   "cell_type": "code",
   "execution_count": 21,
   "metadata": {},
   "outputs": [],
   "source": [
    "import numpy as np\n",
    "import matplotlib.pyplot as plt"
   ]
  },
  {
   "cell_type": "markdown",
   "metadata": {},
   "source": [
    "class specification"
   ]
  },
  {
   "cell_type": "code",
   "execution_count": 22,
   "metadata": {},
   "outputs": [],
   "source": [
    "class LinearRegresssion:\n",
    "    def __init__(self, n_feature = 1, learning_rate=0.0001, batch_size=10,epoches=10000):\n",
    "        self.epoches = epoches\n",
    "        self.learning_rate = learning_rate\n",
    "        self.tole = 1e-5\n",
    "        self.batch_size = batch_size\n",
    "        self.W = np.random.randn(n_feature + 1) * 0.05\n",
    "\n",
    "    # stochastic gradient descent\n",
    "    def _SGD_update(self, input, groundtruth):\n",
    "        pred = input.dot(self.W)\n",
    "        seed = np.random.randint(0, len(input))\n",
    "        grad = self._gradient(groundtruth[seed], pred[seed], input[seed,:][np.newaxis, :]) # to ensure the shape is (,2) instead of (2,)\n",
    "        self.W = self.W - self.learning_rate * grad\n",
    "\n",
    "    # batch gradient descent\n",
    "    def _BGD_update(self, input, groundtruth):\n",
    "        pred = input.dot(self.W)\n",
    "        grad = self._gradient(groundtruth, pred, input)\n",
    "        self.W = self.W - self.learning_rate * grad\n",
    "\n",
    "    # 10 percent of mini batch graident descent \n",
    "    def _MBGD_update(self, input, groundtruth):\n",
    "        pred = input.dot(self.W)\n",
    "        indices = np.random.choice(groundtruth.shape[0], self.batch_size, replace=False)\n",
    "        grad = self._gradient(groundtruth[indices], pred[indices], input[indices])\n",
    "        self.W = self.W - self.learning_rate * grad\n",
    "    \n",
    "    def _mse_loss(self, groundtruth, predict):\n",
    "        return np.mean((groundtruth - predict) ** 2)\n",
    "    \n",
    "    def _gradient(self, groudtruth, predict, input):\n",
    "        return 1 / input.shape[0] * np.mean(2 * (predict - groudtruth ) * input[:,:-1])\n",
    "\n",
    "    def fit(self, X, y):\n",
    "        X = np.c_[X, np.ones(len(X))]\n",
    "        for i in range(self.epoches):\n",
    "            # loss = self._SGD_update(X, y)\n",
    "            # loss = self._BGD_update(X, y)\n",
    "            self._MBGD_update(X, y)\n",
    "            if i % 100 == 0:\n",
    "                loss = self._mse_loss(y, X.dot(self.W))\n",
    "                print(f\"for {i} iteration, the loss is {loss}\")\n",
    "        return self.W"
   ]
  },
  {
   "cell_type": "markdown",
   "metadata": {},
   "source": [
    "data generation"
   ]
  },
  {
   "cell_type": "code",
   "execution_count": 23,
   "metadata": {},
   "outputs": [],
   "source": [
    "X_train = np.arange(100).reshape(100,1)\n",
    "a, b = 1, 10\n",
    "y_train = a * X_train + b + np.random.normal(0, 5, size=X_train.shape)\n",
    "y_train = y_train.reshape(-1)"
   ]
  },
  {
   "cell_type": "markdown",
   "metadata": {},
   "source": [
    "training "
   ]
  },
  {
   "cell_type": "code",
   "execution_count": 24,
   "metadata": {},
   "outputs": [
    {
     "name": "stdout",
     "output_type": "stream",
     "text": [
      "for 0 iteration, the loss is 4377.69212931866\n",
      "for 100 iteration, the loss is 54.411718892798426\n",
      "for 200 iteration, the loss is 56.27661229158659\n",
      "for 300 iteration, the loss is 54.19031021512123\n",
      "for 400 iteration, the loss is 55.964254928892714\n",
      "for 500 iteration, the loss is 60.72838133955059\n",
      "for 600 iteration, the loss is 54.317774575280566\n",
      "for 700 iteration, the loss is 53.799543065484066\n",
      "for 800 iteration, the loss is 51.31250644705435\n",
      "for 900 iteration, the loss is 54.49805929680818\n",
      "for 1000 iteration, the loss is 52.057597003164645\n",
      "for 1100 iteration, the loss is 52.77245221360883\n",
      "for 1200 iteration, the loss is 53.93898598729651\n",
      "for 1300 iteration, the loss is 53.493456022203006\n",
      "for 1400 iteration, the loss is 55.21862128032403\n",
      "for 1500 iteration, the loss is 54.61500164467671\n",
      "for 1600 iteration, the loss is 56.421384322417005\n",
      "for 1700 iteration, the loss is 53.48473277965744\n",
      "for 1800 iteration, the loss is 52.999503420213685\n",
      "for 1900 iteration, the loss is 52.87128929800317\n",
      "for 2000 iteration, the loss is 50.89627273989696\n",
      "for 2100 iteration, the loss is 57.567734099722266\n",
      "for 2200 iteration, the loss is 53.43099838896442\n",
      "for 2300 iteration, the loss is 58.90938611154596\n",
      "for 2400 iteration, the loss is 55.323573894458505\n",
      "for 2500 iteration, the loss is 51.65070413549316\n",
      "for 2600 iteration, the loss is 51.714118396156316\n",
      "for 2700 iteration, the loss is 55.181387910902885\n",
      "for 2800 iteration, the loss is 51.82493947095564\n",
      "for 2900 iteration, the loss is 52.69997072421242\n",
      "for 3000 iteration, the loss is 52.36889112946931\n",
      "for 3100 iteration, the loss is 55.05162825369842\n",
      "for 3200 iteration, the loss is 54.75138743010056\n",
      "for 3300 iteration, the loss is 54.96629175300925\n",
      "for 3400 iteration, the loss is 59.458805430941474\n",
      "for 3500 iteration, the loss is 51.5333035774849\n",
      "for 3600 iteration, the loss is 60.29034067651049\n",
      "for 3700 iteration, the loss is 53.425309572114195\n",
      "for 3800 iteration, the loss is 60.90440226067465\n",
      "for 3900 iteration, the loss is 53.779223202844435\n",
      "for 4000 iteration, the loss is 56.50322063975705\n",
      "for 4100 iteration, the loss is 54.19889985754318\n",
      "for 4200 iteration, the loss is 54.52521764411753\n",
      "for 4300 iteration, the loss is 54.82726901172049\n",
      "for 4400 iteration, the loss is 56.59674484958978\n",
      "for 4500 iteration, the loss is 52.92419601498019\n",
      "for 4600 iteration, the loss is 52.19588101495925\n",
      "for 4700 iteration, the loss is 54.74583276558331\n",
      "for 4800 iteration, the loss is 52.94136068507997\n",
      "for 4900 iteration, the loss is 52.17421800178926\n",
      "for 5000 iteration, the loss is 54.30040975408059\n",
      "for 5100 iteration, the loss is 51.89600848007821\n",
      "for 5200 iteration, the loss is 53.235879147855215\n",
      "for 5300 iteration, the loss is 53.75119996598122\n",
      "for 5400 iteration, the loss is 54.75967704491267\n",
      "for 5500 iteration, the loss is 56.196436006396425\n",
      "for 5600 iteration, the loss is 56.39043772637824\n",
      "for 5700 iteration, the loss is 57.32573411091214\n",
      "for 5800 iteration, the loss is 53.148478621568785\n",
      "for 5900 iteration, the loss is 56.19545617204202\n",
      "for 6000 iteration, the loss is 53.43267940872591\n",
      "for 6100 iteration, the loss is 51.55223206677913\n",
      "for 6200 iteration, the loss is 52.785026146649415\n",
      "for 6300 iteration, the loss is 53.35208540480522\n",
      "for 6400 iteration, the loss is 52.639252204036026\n",
      "for 6500 iteration, the loss is 52.27721298853336\n",
      "for 6600 iteration, the loss is 52.465766398405066\n",
      "for 6700 iteration, the loss is 54.78786181145765\n",
      "for 6800 iteration, the loss is 53.97418321663037\n",
      "for 6900 iteration, the loss is 51.61609535021249\n",
      "for 7000 iteration, the loss is 58.20087392162287\n",
      "for 7100 iteration, the loss is 53.503438999563535\n",
      "for 7200 iteration, the loss is 53.17957799051185\n",
      "for 7300 iteration, the loss is 50.63234675440929\n",
      "for 7400 iteration, the loss is 53.7185104699342\n",
      "for 7500 iteration, the loss is 54.603687563179236\n",
      "for 7600 iteration, the loss is 51.25087116814182\n",
      "for 7700 iteration, the loss is 53.8440768784573\n",
      "for 7800 iteration, the loss is 53.82355052547207\n",
      "for 7900 iteration, the loss is 55.66760397732116\n",
      "for 8000 iteration, the loss is 54.478712198318405\n",
      "for 8100 iteration, the loss is 58.251950708198095\n",
      "for 8200 iteration, the loss is 54.39662629938223\n",
      "for 8300 iteration, the loss is 53.99600751047833\n",
      "for 8400 iteration, the loss is 51.48158618186924\n",
      "for 8500 iteration, the loss is 54.757814942325695\n",
      "for 8600 iteration, the loss is 53.57758110152342\n",
      "for 8700 iteration, the loss is 52.58738964241933\n",
      "for 8800 iteration, the loss is 53.472680657456856\n",
      "for 8900 iteration, the loss is 53.61593162997472\n",
      "for 9000 iteration, the loss is 54.25213529840781\n",
      "for 9100 iteration, the loss is 53.34996374103788\n",
      "for 9200 iteration, the loss is 51.07244776287477\n",
      "for 9300 iteration, the loss is 52.09880577031003\n",
      "for 9400 iteration, the loss is 54.09767286178705\n",
      "for 9500 iteration, the loss is 59.18242465261963\n",
      "for 9600 iteration, the loss is 51.593978482322\n",
      "for 9700 iteration, the loss is 51.41798662885546\n",
      "for 9800 iteration, the loss is 56.3126992376896\n",
      "for 9900 iteration, the loss is 54.6403607848518\n"
     ]
    },
    {
     "data": {
      "image/png": "[encoded data removed]",
      "text/plain": [
       "<Figure size 640x480 with 1 Axes>"
      ]
     },
     "metadata": {},
     "output_type": "display_data"
    }
   ],
   "source": [
    "model = LinearRegresssion(n_feature=X_train.shape[1])\n",
    "w = model.fit(X_train, y_train)\n",
    "plt.scatter(X_train[:, 0], y_train, color='blue', label='Training data')\n",
    "\n",
    "x_values = np.linspace(X_train[:, 0].min(), X_train[:, 0].max(), 100)\n",
    "y_values = w[0] + w[1] * x_values\n",
    "plt.plot(x_values, y_values, color='red', label='Regression line')\n",
    "\n",
    "plt.xlabel('X_train')\n",
    "plt.ylabel('y_train')\n",
    "plt.legend()\n",
    "plt.title('Linear Regression Fit')\n",
    "plt.show()"
   ]
  }
 ],
 "metadata": {
  "kernelspec": {
   "display_name": "Python 3",
   "language": "python",
   "name": "python3"
  },
  "language_info": {
   "codemirror_mode": {
    "name": "ipython",
    "version": 3
   },
   "file_extension": ".py",
   "mimetype": "text/x-python",
   "name": "python",
   "nbconvert_exporter": "python",
   "pygments_lexer": "ipython3",
   "version": "3.10.12"
  }
 },
 "nbformat": 4,
 "nbformat_minor": 2
}
